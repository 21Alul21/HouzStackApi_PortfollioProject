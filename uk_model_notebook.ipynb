{
 "cells": [
  {
   "cell_type": "markdown",
   "metadata": {
    "colab_type": "text",
    "id": "view-in-github"
   },
   "source": [
    "<a href=\"https://colab.research.google.com/github/21Alul21/HouzStackApi_PortfollioProject/blob/main/uk_model_notebook.ipynb\" target=\"_parent\"><img src=\"https://colab.research.google.com/assets/colab-badge.svg\" alt=\"Open In Colab\"/></a>"
   ]
  },
  {
   "cell_type": "code",
   "execution_count": 229,
   "metadata": {
    "id": "sB98KMuk-aHE"
   },
   "outputs": [],
   "source": [
    "# importing necessary libraries|\n",
    "import numpy as np\n",
    "import pandas as pd\n",
    "from sklearn.model_selection import train_test_split\n",
    "import xgboost as xgb\n",
    "from sklearn.metrics import mean_absolute_error"
   ]
  },
  {
   "cell_type": "code",
   "execution_count": 230,
   "metadata": {},
   "outputs": [
    {
     "name": "stdout",
     "output_type": "stream",
     "text": [
      "Requirement already satisfied: xgboost==2.1.0 in /home/austin/anaconda3/lib/python3.11/site-packages (2.1.0)\n",
      "Requirement already satisfied: numpy in /home/austin/anaconda3/lib/python3.11/site-packages (from xgboost==2.1.0) (1.24.3)\n",
      "Requirement already satisfied: nvidia-nccl-cu12 in /home/austin/anaconda3/lib/python3.11/site-packages (from xgboost==2.1.0) (2.22.3)\n",
      "Requirement already satisfied: scipy in /home/austin/anaconda3/lib/python3.11/site-packages (from xgboost==2.1.0) (1.11.1)\n"
     ]
    }
   ],
   "source": [
    "!pip install xgboost==2.1.0"
   ]
  },
  {
   "cell_type": "code",
   "execution_count": 231,
   "metadata": {
    "id": "Hdyxn6nIIFRe"
   },
   "outputs": [],
   "source": [
    "# loadinding the dataset\n",
    "\n",
    "df = pd.read_csv('./datasets/uk_housing_rentals.csv')"
   ]
  },
  {
   "cell_type": "code",
   "execution_count": 232,
   "metadata": {
    "colab": {
     "base_uri": "https://localhost:8080/",
     "height": 615
    },
    "id": "L9KvxmRQInV9",
    "outputId": "4fc3950a-a08b-40a7-ff37-5a3c7143d4a2"
   },
   "outputs": [
    {
     "data": {
      "text/html": [
       "<div>\n",
       "<style scoped>\n",
       "    .dataframe tbody tr th:only-of-type {\n",
       "        vertical-align: middle;\n",
       "    }\n",
       "\n",
       "    .dataframe tbody tr th {\n",
       "        vertical-align: top;\n",
       "    }\n",
       "\n",
       "    .dataframe thead th {\n",
       "        text-align: right;\n",
       "    }\n",
       "</style>\n",
       "<table border=\"1\" class=\"dataframe\">\n",
       "  <thead>\n",
       "    <tr style=\"text-align: right;\">\n",
       "      <th></th>\n",
       "      <th>Unnamed: 0</th>\n",
       "      <th>Description</th>\n",
       "      <th>Location</th>\n",
       "      <th>Number of Rooms</th>\n",
       "      <th>Price</th>\n",
       "    </tr>\n",
       "  </thead>\n",
       "  <tbody>\n",
       "    <tr>\n",
       "      <th>0</th>\n",
       "      <td>0</td>\n",
       "      <td>1 Bedroom Flat For Rent</td>\n",
       "      <td>Birmingham, West Midla...</td>\n",
       "      <td>1 bedroom</td>\n",
       "      <td>£ 625             ...</td>\n",
       "    </tr>\n",
       "    <tr>\n",
       "      <th>1</th>\n",
       "      <td>1</td>\n",
       "      <td>1 Bedroom Flat For Rent</td>\n",
       "      <td>Birmingham, West Midla...</td>\n",
       "      <td>1 bedroom</td>\n",
       "      <td>£ 625             ...</td>\n",
       "    </tr>\n",
       "    <tr>\n",
       "      <th>2</th>\n",
       "      <td>2</td>\n",
       "      <td>4B Paddington Basin, London, W2</td>\n",
       "      <td>London, Greater London...</td>\n",
       "      <td>3 bedrooms</td>\n",
       "      <td>£ 6,000           ...</td>\n",
       "    </tr>\n",
       "    <tr>\n",
       "      <th>3</th>\n",
       "      <td>3</td>\n",
       "      <td>2 Bedroom Terraced House to Rent in Albert Roa...</td>\n",
       "      <td>London, Greater London...</td>\n",
       "      <td>2 bedrooms</td>\n",
       "      <td>£ 1,400           ...</td>\n",
       "    </tr>\n",
       "    <tr>\n",
       "      <th>4</th>\n",
       "      <td>4</td>\n",
       "      <td>2 Bedroom Terraced House to Rent in Albert Roa...</td>\n",
       "      <td>London, Greater London...</td>\n",
       "      <td>2 bedrooms</td>\n",
       "      <td>£ 1,400           ...</td>\n",
       "    </tr>\n",
       "    <tr>\n",
       "      <th>...</th>\n",
       "      <td>...</td>\n",
       "      <td>...</td>\n",
       "      <td>...</td>\n",
       "      <td>...</td>\n",
       "      <td>...</td>\n",
       "    </tr>\n",
       "    <tr>\n",
       "      <th>39034</th>\n",
       "      <td>2602</td>\n",
       "      <td>apartment for rent in London</td>\n",
       "      <td>London, Greater London...</td>\n",
       "      <td>2 bedrooms</td>\n",
       "      <td>£ 2,297           ...</td>\n",
       "    </tr>\n",
       "    <tr>\n",
       "      <th>39035</th>\n",
       "      <td>2603</td>\n",
       "      <td>Apartment for rent in London</td>\n",
       "      <td>London, Greater London...</td>\n",
       "      <td>1 bedroom</td>\n",
       "      <td>£ 462             ...</td>\n",
       "    </tr>\n",
       "    <tr>\n",
       "      <th>39036</th>\n",
       "      <td>2604</td>\n",
       "      <td>Apartment for rent in London</td>\n",
       "      <td>London, Greater London...</td>\n",
       "      <td>1 bedroom</td>\n",
       "      <td>£ 462             ...</td>\n",
       "    </tr>\n",
       "    <tr>\n",
       "      <th>39037</th>\n",
       "      <td>2605</td>\n",
       "      <td>Apartment in London, Greater London</td>\n",
       "      <td>London, Greater London...</td>\n",
       "      <td>2 bedrooms</td>\n",
       "      <td>£ 26,678          ...</td>\n",
       "    </tr>\n",
       "    <tr>\n",
       "      <th>39038</th>\n",
       "      <td>2606</td>\n",
       "      <td>2 Bedroom Flat to Rent in Pembroke Road,, E17,...</td>\n",
       "      <td>London, Greater London...</td>\n",
       "      <td>2 bedrooms</td>\n",
       "      <td>£ 1,900           ...</td>\n",
       "    </tr>\n",
       "  </tbody>\n",
       "</table>\n",
       "<p>39039 rows × 5 columns</p>\n",
       "</div>"
      ],
      "text/plain": [
       "       Unnamed: 0                                        Description  \\\n",
       "0               0                            1 Bedroom Flat For Rent   \n",
       "1               1                            1 Bedroom Flat For Rent   \n",
       "2               2                    4B Paddington Basin, London, W2   \n",
       "3               3  2 Bedroom Terraced House to Rent in Albert Roa...   \n",
       "4               4  2 Bedroom Terraced House to Rent in Albert Roa...   \n",
       "...           ...                                                ...   \n",
       "39034        2602                       apartment for rent in London   \n",
       "39035        2603                       Apartment for rent in London   \n",
       "39036        2604                       Apartment for rent in London   \n",
       "39037        2605                Apartment in London, Greater London   \n",
       "39038        2606  2 Bedroom Flat to Rent in Pembroke Road,, E17,...   \n",
       "\n",
       "                                                Location Number of Rooms  \\\n",
       "0                              Birmingham, West Midla...       1 bedroom   \n",
       "1                              Birmingham, West Midla...       1 bedroom   \n",
       "2                              London, Greater London...      3 bedrooms   \n",
       "3                              London, Greater London...      2 bedrooms   \n",
       "4                              London, Greater London...      2 bedrooms   \n",
       "...                                                  ...             ...   \n",
       "39034                          London, Greater London...      2 bedrooms   \n",
       "39035                          London, Greater London...       1 bedroom   \n",
       "39036                          London, Greater London...       1 bedroom   \n",
       "39037                          London, Greater London...      2 bedrooms   \n",
       "39038                          London, Greater London...      2 bedrooms   \n",
       "\n",
       "                                                   Price  \n",
       "0                                  £ 625             ...  \n",
       "1                                  £ 625             ...  \n",
       "2                                  £ 6,000           ...  \n",
       "3                                  £ 1,400           ...  \n",
       "4                                  £ 1,400           ...  \n",
       "...                                                  ...  \n",
       "39034                              £ 2,297           ...  \n",
       "39035                              £ 462             ...  \n",
       "39036                              £ 462             ...  \n",
       "39037                              £ 26,678          ...  \n",
       "39038                              £ 1,900           ...  \n",
       "\n",
       "[39039 rows x 5 columns]"
      ]
     },
     "execution_count": 232,
     "metadata": {},
     "output_type": "execute_result"
    }
   ],
   "source": [
    "df"
   ]
  },
  {
   "cell_type": "code",
   "execution_count": null,
   "metadata": {
    "id": "yK0-YhmgI_sI"
   },
   "outputs": [],
   "source": []
  },
  {
   "cell_type": "markdown",
   "metadata": {
    "id": "YnRmXqG9JDja"
   },
   "source": [
    "## Exploratory Data Analysis on the Dataset"
   ]
  },
  {
   "cell_type": "code",
   "execution_count": 233,
   "metadata": {
    "colab": {
     "base_uri": "https://localhost:8080/"
    },
    "id": "doonHxiyJJzR",
    "outputId": "f7387d5e-37fa-4783-8eb9-f49910f6ad3c"
   },
   "outputs": [
    {
     "name": "stdout",
     "output_type": "stream",
     "text": [
      "<class 'pandas.core.frame.DataFrame'>\n",
      "RangeIndex: 39039 entries, 0 to 39038\n",
      "Data columns (total 5 columns):\n",
      " #   Column           Non-Null Count  Dtype \n",
      "---  ------           --------------  ----- \n",
      " 0   Unnamed: 0       39039 non-null  int64 \n",
      " 1   Description      39039 non-null  object\n",
      " 2   Location         39039 non-null  object\n",
      " 3   Number of Rooms  39039 non-null  object\n",
      " 4   Price            39039 non-null  object\n",
      "dtypes: int64(1), object(4)\n",
      "memory usage: 1.5+ MB\n"
     ]
    }
   ],
   "source": [
    "# short description of dataset\n",
    "df.info()"
   ]
  },
  {
   "cell_type": "code",
   "execution_count": 234,
   "metadata": {
    "colab": {
     "base_uri": "https://localhost:8080/",
     "height": 300
    },
    "id": "EqgvHat4KMJK",
    "outputId": "4204e56d-4255-40e0-8f6b-31d6f23459fc"
   },
   "outputs": [
    {
     "data": {
      "text/html": [
       "<div>\n",
       "<style scoped>\n",
       "    .dataframe tbody tr th:only-of-type {\n",
       "        vertical-align: middle;\n",
       "    }\n",
       "\n",
       "    .dataframe tbody tr th {\n",
       "        vertical-align: top;\n",
       "    }\n",
       "\n",
       "    .dataframe thead th {\n",
       "        text-align: right;\n",
       "    }\n",
       "</style>\n",
       "<table border=\"1\" class=\"dataframe\">\n",
       "  <thead>\n",
       "    <tr style=\"text-align: right;\">\n",
       "      <th></th>\n",
       "      <th>Unnamed: 0</th>\n",
       "    </tr>\n",
       "  </thead>\n",
       "  <tbody>\n",
       "    <tr>\n",
       "      <th>count</th>\n",
       "      <td>39039.000000</td>\n",
       "    </tr>\n",
       "    <tr>\n",
       "      <th>mean</th>\n",
       "      <td>14056.481826</td>\n",
       "    </tr>\n",
       "    <tr>\n",
       "      <th>std</th>\n",
       "      <td>10376.635315</td>\n",
       "    </tr>\n",
       "    <tr>\n",
       "      <th>min</th>\n",
       "      <td>0.000000</td>\n",
       "    </tr>\n",
       "    <tr>\n",
       "      <th>25%</th>\n",
       "      <td>3654.500000</td>\n",
       "    </tr>\n",
       "    <tr>\n",
       "      <th>50%</th>\n",
       "      <td>13414.000000</td>\n",
       "    </tr>\n",
       "    <tr>\n",
       "      <th>75%</th>\n",
       "      <td>23173.500000</td>\n",
       "    </tr>\n",
       "    <tr>\n",
       "      <th>max</th>\n",
       "      <td>32933.000000</td>\n",
       "    </tr>\n",
       "  </tbody>\n",
       "</table>\n",
       "</div>"
      ],
      "text/plain": [
       "         Unnamed: 0\n",
       "count  39039.000000\n",
       "mean   14056.481826\n",
       "std    10376.635315\n",
       "min        0.000000\n",
       "25%     3654.500000\n",
       "50%    13414.000000\n",
       "75%    23173.500000\n",
       "max    32933.000000"
      ]
     },
     "execution_count": 234,
     "metadata": {},
     "output_type": "execute_result"
    }
   ],
   "source": [
    "# statistical description of dataset\n",
    "df.describe()"
   ]
  },
  {
   "cell_type": "code",
   "execution_count": 235,
   "metadata": {
    "colab": {
     "base_uri": "https://localhost:8080/"
    },
    "id": "0sRh2q6yKb2n",
    "outputId": "23c83d9c-5ffe-4f4b-caa0-b63d7365fe29"
   },
   "outputs": [
    {
     "data": {
      "text/plain": [
       "Unnamed: 0         0\n",
       "Description        0\n",
       "Location           0\n",
       "Number of Rooms    0\n",
       "Price              0\n",
       "dtype: int64"
      ]
     },
     "execution_count": 235,
     "metadata": {},
     "output_type": "execute_result"
    }
   ],
   "source": [
    "# checking for missing values in dataset\n",
    "df.isna().sum()"
   ]
  },
  {
   "cell_type": "code",
   "execution_count": 236,
   "metadata": {
    "colab": {
     "base_uri": "https://localhost:8080/"
    },
    "id": "51WZk8MUKl3i",
    "outputId": "a9664db0-18e7-49a2-f37f-b0ec29bb5aff"
   },
   "outputs": [
    {
     "data": {
      "text/plain": [
       "1188"
      ]
     },
     "execution_count": 236,
     "metadata": {},
     "output_type": "execute_result"
    }
   ],
   "source": [
    "# checking for duplicate rows in dataset\n",
    "\n",
    "df.duplicated().sum()"
   ]
  },
  {
   "cell_type": "code",
   "execution_count": 237,
   "metadata": {
    "id": "gZBpgXOFKxF1"
   },
   "outputs": [],
   "source": [
    "df.drop_duplicates(inplace=True)"
   ]
  },
  {
   "cell_type": "code",
   "execution_count": 238,
   "metadata": {
    "colab": {
     "base_uri": "https://localhost:8080/"
    },
    "id": "aGVZc_eILaSN",
    "outputId": "ced4a6be-2487-4a21-e0a4-f944db2db115"
   },
   "outputs": [
    {
     "data": {
      "text/plain": [
       "0"
      ]
     },
     "execution_count": 238,
     "metadata": {},
     "output_type": "execute_result"
    }
   ],
   "source": [
    "df.duplicated().sum()"
   ]
  },
  {
   "cell_type": "code",
   "execution_count": 239,
   "metadata": {
    "colab": {
     "base_uri": "https://localhost:8080/"
    },
    "id": "IKh4Bs9SLe1v",
    "outputId": "5d9aa1de-9b85-4b7e-bcab-40fcd346c02f"
   },
   "outputs": [
    {
     "data": {
      "text/plain": [
       "Index(['Unnamed: 0', 'Description', 'Location', 'Number of Rooms', 'Price'], dtype='object')"
      ]
     },
     "execution_count": 239,
     "metadata": {},
     "output_type": "execute_result"
    }
   ],
   "source": [
    "df.columns.unique()"
   ]
  },
  {
   "cell_type": "code",
   "execution_count": 240,
   "metadata": {
    "colab": {
     "base_uri": "https://localhost:8080/"
    },
    "id": "sIBxz9CKODh6",
    "outputId": "5427001e-6de5-4277-b6ca-be0b51800dd7"
   },
   "outputs": [
    {
     "data": {
      "text/plain": [
       "0                                    £ 625             ...\n",
       "1                                    £ 625             ...\n",
       "2                                    £ 6,000           ...\n",
       "3                                    £ 1,400           ...\n",
       "4                                    £ 1,400           ...\n",
       "                               ...                        \n",
       "39034                                £ 2,297           ...\n",
       "39035                                £ 462             ...\n",
       "39036                                £ 462             ...\n",
       "39037                                £ 26,678          ...\n",
       "39038                                £ 1,900           ...\n",
       "Name: Price, Length: 37851, dtype: object"
      ]
     },
     "execution_count": 240,
     "metadata": {},
     "output_type": "execute_result"
    }
   ],
   "source": [
    "df.Price"
   ]
  },
  {
   "cell_type": "code",
   "execution_count": 241,
   "metadata": {
    "colab": {
     "base_uri": "https://localhost:8080/"
    },
    "id": "sVWcjUVUL19X",
    "outputId": "8e533778-7aee-46d2-e1b6-b54cb719533c"
   },
   "outputs": [
    {
     "data": {
      "text/plain": [
       "(37851, 5)"
      ]
     },
     "execution_count": 241,
     "metadata": {},
     "output_type": "execute_result"
    }
   ],
   "source": [
    "df.shape"
   ]
  },
  {
   "cell_type": "code",
   "execution_count": 242,
   "metadata": {
    "colab": {
     "base_uri": "https://localhost:8080/"
    },
    "id": "MocLY_QyMG29",
    "outputId": "40ea7ee7-a9c5-4dcb-c6c1-2ed5a201a41d"
   },
   "outputs": [
    {
     "data": {
      "text/plain": [
       "array(['                        Birmingham, West Midlands                    ',\n",
       "       '                        London, Greater London                    ',\n",
       "       '                        Liverpool, Merseyside                    ',\n",
       "       '                        Leeds, Leeds                    ',\n",
       "       '                        Harrow, Harrow                    ',\n",
       "       '                        Bromley, Bromley                    '],\n",
       "      dtype=object)"
      ]
     },
     "execution_count": 242,
     "metadata": {},
     "output_type": "execute_result"
    }
   ],
   "source": [
    "df.Location.unique()"
   ]
  },
  {
   "cell_type": "code",
   "execution_count": 243,
   "metadata": {
    "id": "lm-G66TmMPe4"
   },
   "outputs": [],
   "source": [
    "df.drop(['Unnamed: 0', 'Description', 'Location'], axis=1,inplace=True)"
   ]
  },
  {
   "cell_type": "code",
   "execution_count": 244,
   "metadata": {
    "colab": {
     "base_uri": "https://localhost:8080/"
    },
    "id": "mzbHaX5XMuFD",
    "outputId": "d97f0dff-0dd1-4e0f-f7bc-01d5f0a65865"
   },
   "outputs": [
    {
     "data": {
      "text/plain": [
       "(37851, 2)"
      ]
     },
     "execution_count": 244,
     "metadata": {},
     "output_type": "execute_result"
    }
   ],
   "source": [
    "df.shape"
   ]
  },
  {
   "cell_type": "code",
   "execution_count": 245,
   "metadata": {
    "colab": {
     "base_uri": "https://localhost:8080/",
     "height": 206
    },
    "id": "58cDe1sDM2vR",
    "outputId": "cd7e2cfd-159f-4e8a-bca8-a428611d08da"
   },
   "outputs": [
    {
     "data": {
      "text/html": [
       "<div>\n",
       "<style scoped>\n",
       "    .dataframe tbody tr th:only-of-type {\n",
       "        vertical-align: middle;\n",
       "    }\n",
       "\n",
       "    .dataframe tbody tr th {\n",
       "        vertical-align: top;\n",
       "    }\n",
       "\n",
       "    .dataframe thead th {\n",
       "        text-align: right;\n",
       "    }\n",
       "</style>\n",
       "<table border=\"1\" class=\"dataframe\">\n",
       "  <thead>\n",
       "    <tr style=\"text-align: right;\">\n",
       "      <th></th>\n",
       "      <th>Number of Rooms</th>\n",
       "      <th>Price</th>\n",
       "    </tr>\n",
       "  </thead>\n",
       "  <tbody>\n",
       "    <tr>\n",
       "      <th>0</th>\n",
       "      <td>1 bedroom</td>\n",
       "      <td>£ 625             ...</td>\n",
       "    </tr>\n",
       "    <tr>\n",
       "      <th>1</th>\n",
       "      <td>1 bedroom</td>\n",
       "      <td>£ 625             ...</td>\n",
       "    </tr>\n",
       "    <tr>\n",
       "      <th>2</th>\n",
       "      <td>3 bedrooms</td>\n",
       "      <td>£ 6,000           ...</td>\n",
       "    </tr>\n",
       "    <tr>\n",
       "      <th>3</th>\n",
       "      <td>2 bedrooms</td>\n",
       "      <td>£ 1,400           ...</td>\n",
       "    </tr>\n",
       "    <tr>\n",
       "      <th>4</th>\n",
       "      <td>2 bedrooms</td>\n",
       "      <td>£ 1,400           ...</td>\n",
       "    </tr>\n",
       "  </tbody>\n",
       "</table>\n",
       "</div>"
      ],
      "text/plain": [
       "  Number of Rooms                                              Price\n",
       "0       1 bedroom                              £ 625             ...\n",
       "1       1 bedroom                              £ 625             ...\n",
       "2      3 bedrooms                              £ 6,000           ...\n",
       "3      2 bedrooms                              £ 1,400           ...\n",
       "4      2 bedrooms                              £ 1,400           ..."
      ]
     },
     "execution_count": 245,
     "metadata": {},
     "output_type": "execute_result"
    }
   ],
   "source": [
    "df.head()"
   ]
  },
  {
   "cell_type": "code",
   "execution_count": 246,
   "metadata": {
    "id": "RMzzNlVlM7ba"
   },
   "outputs": [],
   "source": [
    "# stripping the text from the cell values and converting to integer data type\n",
    "\n",
    "df['Number of Rooms'] = df['Number of Rooms'].apply(lambda x: x.split(' ')[0])\n",
    "\n",
    "def clean_price(price):\n",
    "  value = ''\n",
    "  for char in price:\n",
    "    if char.isdigit():\n",
    "      value += char\n",
    "  return int(value)\n",
    "\n",
    "df['Price'] = df['Price'].apply(clean_price)"
   ]
  },
  {
   "cell_type": "code",
   "execution_count": 247,
   "metadata": {
    "colab": {
     "base_uri": "https://localhost:8080/",
     "height": 424
    },
    "id": "INxxF9aZOvFo",
    "outputId": "7d764c9b-41cb-4a87-c162-6b107ab6882a"
   },
   "outputs": [
    {
     "data": {
      "text/html": [
       "<div>\n",
       "<style scoped>\n",
       "    .dataframe tbody tr th:only-of-type {\n",
       "        vertical-align: middle;\n",
       "    }\n",
       "\n",
       "    .dataframe tbody tr th {\n",
       "        vertical-align: top;\n",
       "    }\n",
       "\n",
       "    .dataframe thead th {\n",
       "        text-align: right;\n",
       "    }\n",
       "</style>\n",
       "<table border=\"1\" class=\"dataframe\">\n",
       "  <thead>\n",
       "    <tr style=\"text-align: right;\">\n",
       "      <th></th>\n",
       "      <th>Number of Rooms</th>\n",
       "      <th>Price</th>\n",
       "    </tr>\n",
       "  </thead>\n",
       "  <tbody>\n",
       "    <tr>\n",
       "      <th>0</th>\n",
       "      <td>1</td>\n",
       "      <td>625</td>\n",
       "    </tr>\n",
       "    <tr>\n",
       "      <th>1</th>\n",
       "      <td>1</td>\n",
       "      <td>625</td>\n",
       "    </tr>\n",
       "    <tr>\n",
       "      <th>2</th>\n",
       "      <td>3</td>\n",
       "      <td>6000</td>\n",
       "    </tr>\n",
       "    <tr>\n",
       "      <th>3</th>\n",
       "      <td>2</td>\n",
       "      <td>1400</td>\n",
       "    </tr>\n",
       "    <tr>\n",
       "      <th>4</th>\n",
       "      <td>2</td>\n",
       "      <td>1400</td>\n",
       "    </tr>\n",
       "    <tr>\n",
       "      <th>...</th>\n",
       "      <td>...</td>\n",
       "      <td>...</td>\n",
       "    </tr>\n",
       "    <tr>\n",
       "      <th>39034</th>\n",
       "      <td>2</td>\n",
       "      <td>2297</td>\n",
       "    </tr>\n",
       "    <tr>\n",
       "      <th>39035</th>\n",
       "      <td>1</td>\n",
       "      <td>462</td>\n",
       "    </tr>\n",
       "    <tr>\n",
       "      <th>39036</th>\n",
       "      <td>1</td>\n",
       "      <td>462</td>\n",
       "    </tr>\n",
       "    <tr>\n",
       "      <th>39037</th>\n",
       "      <td>2</td>\n",
       "      <td>26678</td>\n",
       "    </tr>\n",
       "    <tr>\n",
       "      <th>39038</th>\n",
       "      <td>2</td>\n",
       "      <td>1900</td>\n",
       "    </tr>\n",
       "  </tbody>\n",
       "</table>\n",
       "<p>37851 rows × 2 columns</p>\n",
       "</div>"
      ],
      "text/plain": [
       "      Number of Rooms  Price\n",
       "0                   1    625\n",
       "1                   1    625\n",
       "2                   3   6000\n",
       "3                   2   1400\n",
       "4                   2   1400\n",
       "...               ...    ...\n",
       "39034               2   2297\n",
       "39035               1    462\n",
       "39036               1    462\n",
       "39037               2  26678\n",
       "39038               2   1900\n",
       "\n",
       "[37851 rows x 2 columns]"
      ]
     },
     "execution_count": 247,
     "metadata": {},
     "output_type": "execute_result"
    }
   ],
   "source": [
    "df"
   ]
  },
  {
   "cell_type": "code",
   "execution_count": 248,
   "metadata": {
    "colab": {
     "base_uri": "https://localhost:8080/"
    },
    "id": "IihktIGGRReD",
    "outputId": "1894dc0f-bab4-4820-f672-c41bd45ba5bd"
   },
   "outputs": [
    {
     "name": "stdout",
     "output_type": "stream",
     "text": [
      "<class 'pandas.core.frame.DataFrame'>\n",
      "Index: 37851 entries, 0 to 39038\n",
      "Data columns (total 2 columns):\n",
      " #   Column           Non-Null Count  Dtype \n",
      "---  ------           --------------  ----- \n",
      " 0   Number of Rooms  37851 non-null  object\n",
      " 1   Price            37851 non-null  int64 \n",
      "dtypes: int64(1), object(1)\n",
      "memory usage: 887.1+ KB\n"
     ]
    }
   ],
   "source": [
    "df.info()"
   ]
  },
  {
   "cell_type": "code",
   "execution_count": 249,
   "metadata": {
    "colab": {
     "base_uri": "https://localhost:8080/"
    },
    "id": "kCQ-3cSfTDn8",
    "outputId": "2296a69f-5a6a-4358-b804-69c2fa6b19d1"
   },
   "outputs": [
    {
     "data": {
      "text/plain": [
       "array(['1', '3', '2', '4', '6', '5', 'Not', '34', '10', '27', '24', '7'],\n",
       "      dtype=object)"
      ]
     },
     "execution_count": 249,
     "metadata": {},
     "output_type": "execute_result"
    }
   ],
   "source": [
    "df['Number of Rooms'].unique()"
   ]
  },
  {
   "cell_type": "markdown",
   "metadata": {
    "id": "cXP3LNPaTnzq"
   },
   "source": []
  },
  {
   "cell_type": "code",
   "execution_count": 250,
   "metadata": {
    "id": "CBI8MpoXRX_H"
   },
   "outputs": [],
   "source": [
    "# removing rows with value 'Not'\n",
    "\n",
    "df = df[df['Number of Rooms'] != 'Not']\n"
   ]
  },
  {
   "cell_type": "code",
   "execution_count": 251,
   "metadata": {
    "colab": {
     "base_uri": "https://localhost:8080/"
    },
    "id": "QKR2lvAdTg77",
    "outputId": "b260d4f5-690f-459c-c908-f3ba42c3072b"
   },
   "outputs": [
    {
     "data": {
      "text/plain": [
       "array(['1', '3', '2', '4', '6', '5', '34', '10', '27', '24', '7'],\n",
       "      dtype=object)"
      ]
     },
     "execution_count": 251,
     "metadata": {},
     "output_type": "execute_result"
    }
   ],
   "source": [
    "df['Number of Rooms'].unique()"
   ]
  },
  {
   "cell_type": "code",
   "execution_count": 252,
   "metadata": {
    "colab": {
     "base_uri": "https://localhost:8080/"
    },
    "id": "o0u8ukDbWRyN",
    "outputId": "a00be2c0-c7e1-42ba-9b5b-82d2e9f4628e"
   },
   "outputs": [
    {
     "name": "stderr",
     "output_type": "stream",
     "text": [
      "/tmp/ipykernel_13405/3388982608.py:2: SettingWithCopyWarning: \n",
      "A value is trying to be set on a copy of a slice from a DataFrame.\n",
      "Try using .loc[row_indexer,col_indexer] = value instead\n",
      "\n",
      "See the caveats in the documentation: https://pandas.pydata.org/pandas-docs/stable/user_guide/indexing.html#returning-a-view-versus-a-copy\n",
      "  df['Number of Rooms'] = df['Number of Rooms'].astype(int)\n"
     ]
    }
   ],
   "source": [
    "# converting 'NUmber of Rooms' column to integer\n",
    "df['Number of Rooms'] = df['Number of Rooms'].astype(int)"
   ]
  },
  {
   "cell_type": "code",
   "execution_count": 253,
   "metadata": {
    "colab": {
     "base_uri": "https://localhost:8080/"
    },
    "id": "fSy6Pl1XWnqg",
    "outputId": "dc52b5f2-7e12-40a0-dc04-ea86e1fde1df"
   },
   "outputs": [
    {
     "name": "stdout",
     "output_type": "stream",
     "text": [
      "<class 'pandas.core.frame.DataFrame'>\n",
      "Index: 37767 entries, 0 to 39038\n",
      "Data columns (total 2 columns):\n",
      " #   Column           Non-Null Count  Dtype\n",
      "---  ------           --------------  -----\n",
      " 0   Number of Rooms  37767 non-null  int64\n",
      " 1   Price            37767 non-null  int64\n",
      "dtypes: int64(2)\n",
      "memory usage: 885.2 KB\n"
     ]
    }
   ],
   "source": [
    "df.info()"
   ]
  },
  {
   "cell_type": "markdown",
   "metadata": {
    "id": "C2pz1-6EXMMy"
   },
   "source": [
    "## Model Training"
   ]
  },
  {
   "cell_type": "code",
   "execution_count": 254,
   "metadata": {
    "id": "IBgCMqe7X77a"
   },
   "outputs": [],
   "source": [
    "X = df['Number of Rooms']\n",
    "Y = df['Price']"
   ]
  },
  {
   "cell_type": "code",
   "execution_count": 255,
   "metadata": {
    "id": "W7nv6f6KWx7u"
   },
   "outputs": [],
   "source": [
    "# splitting the model for training and testing\n",
    "x_train, x_test, y_train, y_test = train_test_split(X, Y, test_size=.2, random_state=42)"
   ]
  },
  {
   "cell_type": "code",
   "execution_count": 256,
   "metadata": {
    "id": "8Xg_gV0aXmxI"
   },
   "outputs": [],
   "source": [
    "model = xgb.XGBRegressor()"
   ]
  },
  {
   "cell_type": "code",
   "execution_count": 257,
   "metadata": {
    "colab": {
     "base_uri": "https://localhost:8080/",
     "height": 248
    },
    "id": "uyN94zqzYY_B",
    "outputId": "94ac02a5-41e7-4d8a-d0e1-6c0ea0ae5fcd"
   },
   "outputs": [
    {
     "data": {
      "text/html": [
       "<style>#sk-container-id-7 {color: black;}#sk-container-id-7 pre{padding: 0;}#sk-container-id-7 div.sk-toggleable {background-color: white;}#sk-container-id-7 label.sk-toggleable__label {cursor: pointer;display: block;width: 100%;margin-bottom: 0;padding: 0.3em;box-sizing: border-box;text-align: center;}#sk-container-id-7 label.sk-toggleable__label-arrow:before {content: \"▸\";float: left;margin-right: 0.25em;color: #696969;}#sk-container-id-7 label.sk-toggleable__label-arrow:hover:before {color: black;}#sk-container-id-7 div.sk-estimator:hover label.sk-toggleable__label-arrow:before {color: black;}#sk-container-id-7 div.sk-toggleable__content {max-height: 0;max-width: 0;overflow: hidden;text-align: left;background-color: #f0f8ff;}#sk-container-id-7 div.sk-toggleable__content pre {margin: 0.2em;color: black;border-radius: 0.25em;background-color: #f0f8ff;}#sk-container-id-7 input.sk-toggleable__control:checked~div.sk-toggleable__content {max-height: 200px;max-width: 100%;overflow: auto;}#sk-container-id-7 input.sk-toggleable__control:checked~label.sk-toggleable__label-arrow:before {content: \"▾\";}#sk-container-id-7 div.sk-estimator input.sk-toggleable__control:checked~label.sk-toggleable__label {background-color: #d4ebff;}#sk-container-id-7 div.sk-label input.sk-toggleable__control:checked~label.sk-toggleable__label {background-color: #d4ebff;}#sk-container-id-7 input.sk-hidden--visually {border: 0;clip: rect(1px 1px 1px 1px);clip: rect(1px, 1px, 1px, 1px);height: 1px;margin: -1px;overflow: hidden;padding: 0;position: absolute;width: 1px;}#sk-container-id-7 div.sk-estimator {font-family: monospace;background-color: #f0f8ff;border: 1px dotted black;border-radius: 0.25em;box-sizing: border-box;margin-bottom: 0.5em;}#sk-container-id-7 div.sk-estimator:hover {background-color: #d4ebff;}#sk-container-id-7 div.sk-parallel-item::after {content: \"\";width: 100%;border-bottom: 1px solid gray;flex-grow: 1;}#sk-container-id-7 div.sk-label:hover label.sk-toggleable__label {background-color: #d4ebff;}#sk-container-id-7 div.sk-serial::before {content: \"\";position: absolute;border-left: 1px solid gray;box-sizing: border-box;top: 0;bottom: 0;left: 50%;z-index: 0;}#sk-container-id-7 div.sk-serial {display: flex;flex-direction: column;align-items: center;background-color: white;padding-right: 0.2em;padding-left: 0.2em;position: relative;}#sk-container-id-7 div.sk-item {position: relative;z-index: 1;}#sk-container-id-7 div.sk-parallel {display: flex;align-items: stretch;justify-content: center;background-color: white;position: relative;}#sk-container-id-7 div.sk-item::before, #sk-container-id-7 div.sk-parallel-item::before {content: \"\";position: absolute;border-left: 1px solid gray;box-sizing: border-box;top: 0;bottom: 0;left: 50%;z-index: -1;}#sk-container-id-7 div.sk-parallel-item {display: flex;flex-direction: column;z-index: 1;position: relative;background-color: white;}#sk-container-id-7 div.sk-parallel-item:first-child::after {align-self: flex-end;width: 50%;}#sk-container-id-7 div.sk-parallel-item:last-child::after {align-self: flex-start;width: 50%;}#sk-container-id-7 div.sk-parallel-item:only-child::after {width: 0;}#sk-container-id-7 div.sk-dashed-wrapped {border: 1px dashed gray;margin: 0 0.4em 0.5em 0.4em;box-sizing: border-box;padding-bottom: 0.4em;background-color: white;}#sk-container-id-7 div.sk-label label {font-family: monospace;font-weight: bold;display: inline-block;line-height: 1.2em;}#sk-container-id-7 div.sk-label-container {text-align: center;}#sk-container-id-7 div.sk-container {/* jupyter's `normalize.less` sets `[hidden] { display: none; }` but bootstrap.min.css set `[hidden] { display: none !important; }` so we also need the `!important` here to be able to override the default hidden behavior on the sphinx rendered scikit-learn.org. See: https://github.com/scikit-learn/scikit-learn/issues/21755 */display: inline-block !important;position: relative;}#sk-container-id-7 div.sk-text-repr-fallback {display: none;}</style><div id=\"sk-container-id-7\" class=\"sk-top-container\"><div class=\"sk-text-repr-fallback\"><pre>XGBRegressor(base_score=None, booster=None, callbacks=None,\n",
       "             colsample_bylevel=None, colsample_bynode=None,\n",
       "             colsample_bytree=None, device=None, early_stopping_rounds=None,\n",
       "             enable_categorical=False, eval_metric=None, feature_types=None,\n",
       "             gamma=None, grow_policy=None, importance_type=None,\n",
       "             interaction_constraints=None, learning_rate=None, max_bin=None,\n",
       "             max_cat_threshold=None, max_cat_to_onehot=None,\n",
       "             max_delta_step=None, max_depth=None, max_leaves=None,\n",
       "             min_child_weight=None, missing=nan, monotone_constraints=None,\n",
       "             multi_strategy=None, n_estimators=None, n_jobs=None,\n",
       "             num_parallel_tree=None, random_state=None, ...)</pre><b>In a Jupyter environment, please rerun this cell to show the HTML representation or trust the notebook. <br />On GitHub, the HTML representation is unable to render, please try loading this page with nbviewer.org.</b></div><div class=\"sk-container\" hidden><div class=\"sk-item\"><div class=\"sk-estimator sk-toggleable\"><input class=\"sk-toggleable__control sk-hidden--visually\" id=\"sk-estimator-id-7\" type=\"checkbox\" checked><label for=\"sk-estimator-id-7\" class=\"sk-toggleable__label sk-toggleable__label-arrow\">XGBRegressor</label><div class=\"sk-toggleable__content\"><pre>XGBRegressor(base_score=None, booster=None, callbacks=None,\n",
       "             colsample_bylevel=None, colsample_bynode=None,\n",
       "             colsample_bytree=None, device=None, early_stopping_rounds=None,\n",
       "             enable_categorical=False, eval_metric=None, feature_types=None,\n",
       "             gamma=None, grow_policy=None, importance_type=None,\n",
       "             interaction_constraints=None, learning_rate=None, max_bin=None,\n",
       "             max_cat_threshold=None, max_cat_to_onehot=None,\n",
       "             max_delta_step=None, max_depth=None, max_leaves=None,\n",
       "             min_child_weight=None, missing=nan, monotone_constraints=None,\n",
       "             multi_strategy=None, n_estimators=None, n_jobs=None,\n",
       "             num_parallel_tree=None, random_state=None, ...)</pre></div></div></div></div></div>"
      ],
      "text/plain": [
       "XGBRegressor(base_score=None, booster=None, callbacks=None,\n",
       "             colsample_bylevel=None, colsample_bynode=None,\n",
       "             colsample_bytree=None, device=None, early_stopping_rounds=None,\n",
       "             enable_categorical=False, eval_metric=None, feature_types=None,\n",
       "             gamma=None, grow_policy=None, importance_type=None,\n",
       "             interaction_constraints=None, learning_rate=None, max_bin=None,\n",
       "             max_cat_threshold=None, max_cat_to_onehot=None,\n",
       "             max_delta_step=None, max_depth=None, max_leaves=None,\n",
       "             min_child_weight=None, missing=nan, monotone_constraints=None,\n",
       "             multi_strategy=None, n_estimators=None, n_jobs=None,\n",
       "             num_parallel_tree=None, random_state=None, ...)"
      ]
     },
     "execution_count": 257,
     "metadata": {},
     "output_type": "execute_result"
    }
   ],
   "source": [
    "model.fit(x_train, y_train)"
   ]
  },
  {
   "cell_type": "code",
   "execution_count": 258,
   "metadata": {
    "id": "J7RyFWrlZJYv"
   },
   "outputs": [],
   "source": [
    "prediction = model.predict(x_test)"
   ]
  },
  {
   "cell_type": "code",
   "execution_count": 259,
   "metadata": {
    "colab": {
     "base_uri": "https://localhost:8080/"
    },
    "id": "3CWmFjKSZSUX",
    "outputId": "32ac9fa3-ea09-414a-ee00-896c18002032"
   },
   "outputs": [
    {
     "data": {
      "text/plain": [
       "array([2985.4888, 3341.4053, 2985.4888, ..., 2985.4888, 2985.4888,\n",
       "       1617.62  ], dtype=float32)"
      ]
     },
     "execution_count": 259,
     "metadata": {},
     "output_type": "execute_result"
    }
   ],
   "source": [
    "prediction"
   ]
  },
  {
   "cell_type": "code",
   "execution_count": 260,
   "metadata": {},
   "outputs": [],
   "source": [
    "df_t = pd.DataFrame({'Number of Rooms': [2]})"
   ]
  },
  {
   "cell_type": "code",
   "execution_count": 261,
   "metadata": {},
   "outputs": [
    {
     "data": {
      "text/plain": [
       "array([3341.4053], dtype=float32)"
      ]
     },
     "execution_count": 261,
     "metadata": {},
     "output_type": "execute_result"
    }
   ],
   "source": [
    "model.predict(df_t)"
   ]
  },
  {
   "cell_type": "markdown",
   "metadata": {
    "id": "Dvm-Zne-aCC8"
   },
   "source": []
  },
  {
   "cell_type": "code",
   "execution_count": 262,
   "metadata": {
    "colab": {
     "base_uri": "https://localhost:8080/"
    },
    "id": "KWrQ0ggXZUyC",
    "outputId": "42e4c9cd-15f0-4f2a-a7af-bc1576079508"
   },
   "outputs": [
    {
     "data": {
      "text/plain": [
       "1310.1139475464158"
      ]
     },
     "execution_count": 262,
     "metadata": {},
     "output_type": "execute_result"
    }
   ],
   "source": [
    "from sklearn.metrics import mean_absolute_error\n",
    "\n",
    "mean_absolute_error(prediction, y_test)\n"
   ]
  },
  {
   "cell_type": "code",
   "execution_count": 266,
   "metadata": {},
   "outputs": [],
   "source": [
    "# saving the model using pickle\n",
    "import pickle\n",
    "\n",
    "with open('model_uk.pkl', 'wb') as m:\n",
    "    pickle.dump(model, m)"
   ]
  },
  {
   "cell_type": "code",
   "execution_count": null,
   "metadata": {},
   "outputs": [],
   "source": []
  },
  {
   "cell_type": "code",
   "execution_count": 226,
   "metadata": {
    "colab": {
     "base_uri": "https://localhost:8080/"
    },
    "id": "GKPtnUXhZpWK",
    "outputId": "df21142c-d5e7-42ee-ffda-3841ecfd31c2"
   },
   "outputs": [],
   "source": [
    "#import joblib\n",
    "#joblib.dump('model', 'xgb_model_uk.plk')"
   ]
  },
  {
   "cell_type": "code",
   "execution_count": null,
   "metadata": {
    "id": "DZxBue_OaZZK"
   },
   "outputs": [],
   "source": []
  },
  {
   "cell_type": "code",
   "execution_count": null,
   "metadata": {},
   "outputs": [],
   "source": []
  }
 ],
 "metadata": {
  "colab": {
   "authorship_tag": "ABX9TyOLF95D5bXDyhVV8uEVeMz8",
   "include_colab_link": true,
   "provenance": []
  },
  "kernelspec": {
   "display_name": "Python 3 (ipykernel)",
   "language": "python",
   "name": "python3"
  },
  "language_info": {
   "codemirror_mode": {
    "name": "ipython",
    "version": 3
   },
   "file_extension": ".py",
   "mimetype": "text/x-python",
   "name": "python",
   "nbconvert_exporter": "python",
   "pygments_lexer": "ipython3",
   "version": "3.11.5"
  }
 },
 "nbformat": 4,
 "nbformat_minor": 1
}
